{
  "nbformat": 4,
  "nbformat_minor": 0,
  "metadata": {
    "colab": {
      "name": "ARIMA1.ipynb",
      "provenance": []
    },
    "kernelspec": {
      "name": "python3",
      "display_name": "Python 3"
    },
    "language_info": {
      "name": "python"
    }
  },
  "cells": [
    {
      "cell_type": "code",
      "execution_count": null,
      "metadata": {
        "id": "up8T4Mb8N99Z"
      },
      "outputs": [],
      "source": [
        "!pip install seaborn\n",
        "!pip install statsmodels==0.12.1"
      ]
    },
    {
      "cell_type": "code",
      "source": [
        "import statsmodels.api as sm\n",
        "import numpy as np\n",
        "import pandas as pd\n",
        "from statsmodels.tsa.arima.model import ARIMA\n",
        "from sklearn.metrics import mean_squared_error\n",
        "from sklearn.metrics import mean_absolute_error\n",
        "from matplotlib import pyplot\n",
        "from pandas import read_csv\n",
        "from pandas import datetime\n",
        "from matplotlib import pyplot\n",
        "from matplotlib import pyplot as plt\n",
        "from pandas.plotting import autocorrelation_plot\n",
        "import seaborn as sns"
      ],
      "metadata": {
        "id": "boytGyubOGJS"
      },
      "execution_count": null,
      "outputs": []
    },
    {
      "cell_type": "code",
      "source": [
        "# import time series dataset\n",
        "df = pd.read_csv(\"/content/anti_social_behaviour.csv\", encoding='gbk', parse_dates=True,index_col=0)\n",
        "\n",
        "# define the data for arima model\n",
        "def result_arima_model(data,arima_order):\n",
        "    data = data.astype('float32')\n",
        "    total_data = data\n",
        "    # let 70% of data be the training set\n",
        "    # let 30% of data be the test set\n",
        "    cut_point = int(len(data)*0.7)\n",
        "    train,test = total_data[0:cut_point],total_data[cut_point:]\n",
        "    # obtain values for the training set\n",
        "    # define the list that stores all predictions \n",
        "    history = [x for x in train]\n",
        "    prediction = []\n",
        "    for t in range(len(test)):\n",
        "        model = ARIMA(history,order=arima_order)\n",
        "        model_fit = model.fit()\n",
        "        y_pre = model_fit.forecast()[0]\n",
        "        prediction.append(y_pre)\n",
        "        # iterate prediction, append the result into history as training set\n",
        "        history.append(test[t])\n",
        "    # define rmse\n",
        "    rmse = np.sqrt(mean_squared_error(test,prediction))\n",
        "    mae = mean_absolute_error(test,prediction)\n",
        "    return rmse\n",
        "\n",
        "# define a function that finds out best fit p,d,q for us\n",
        "def find_pdq(dataset,p_range,d_range,q_range):\n",
        "    data_input = dataset\n",
        "    best_score,best_order = np.inf,None\n",
        "    for p in p_range:\n",
        "        for d in d_range:\n",
        "            for q in q_range:\n",
        "                \n",
        "                try:\n",
        "                   rmse = result_arima_model(dataset,(p,d,q))\n",
        "                   if rmse < best_score:\n",
        "                       best_score = rmse\n",
        "                       best_order = (p,d,q)\n",
        "                   print(\"rmse:%.3f,order:%s\" %(rmse,(p,d,q)))\n",
        "                except:\n",
        "                   continue\n",
        "    print(\"best order is %s, socre is %.3f\" %(best_order,rmse))\n",
        "    return best_score,best_order\n",
        "# print best p,d,q\n",
        "find_pdq(df.values,[1,2,4,6,8,10],[0,1,2],[0,1,2])"
      ],
      "metadata": {
        "id": "6OPIsshnOPxW"
      },
      "execution_count": null,
      "outputs": []
    },
    {
      "cell_type": "code",
      "source": [
        "# test our model with p,d,q\n",
        "cridam = pd.read_csv('/content/anti_social_behaviour.csv', index_col='time', parse_dates=['time'])\n",
        "X = cridam.values\n",
        "size = int(len(X) * 0.7)\n",
        "train, test = X[0:size], X[size:len(X)]\n",
        "history = [x for x in train]\n",
        "predictions = list()\n",
        "xs = np.array([i for i in range(len(train)+1)])\n",
        "xs_test = np.array([i+len(train) for i in range(len(test))])\n",
        "\n",
        "for t in range(len(test)):\n",
        "    model = ARIMA(history, order=(8, 0, 1))\n",
        "    model_fit = model.fit()\n",
        "    output = model_fit.forecast()\n",
        "    yhat = output[0]\n",
        "    predictions.append(yhat)\n",
        "    obs = test[t]\n",
        "    history.append(obs)\n",
        "    print('predicted=%f, expected=%f' % (yhat, obs))\n",
        "error = mean_squared_error(test, predictions)\n",
        "print('Test MSE: %.3f' % error)\n",
        "# plot\n",
        "pyplot.plot(xs_test, test, color = 'green')\n",
        "pyplot.plot(xs, X[0:size+1], color = 'blue')\n",
        "pyplot.plot(xs_test, predictions, color='red')\n",
        "pyplot.show()"
      ],
      "metadata": {
        "id": "EqPAsoLeOS9j"
      },
      "execution_count": null,
      "outputs": []
    },
    {
      "cell_type": "code",
      "source": [
        "# model implication\n",
        "cridam = pd.read_csv('/content/anti_social_behaviour.csv', index_col='time', parse_dates=['time'])\n",
        "history = [x for x in cridam.values]\n",
        "predictions = [cridam.values[-1]]\n",
        "for t in range(12):\n",
        "    model = ARIMA(history, order=(8, 0, 1))\n",
        "    model_fit = model.fit()\n",
        "    output = model_fit.forecast()\n",
        "    yhat = output[0]\n",
        "    predictions.append(yhat)\n",
        "    obs = yhat\n",
        "    history.append(output)\n",
        "    print('predicted=%f' % (yhat))\n",
        "# load 2020 data\n",
        "cridam2020 = pd.read_csv('/content/antisocial_real.csv', index_col='time', parse_dates=['time'])\n",
        "month_in_datatime2020 = cridam2020.index.values\n",
        "month_in_datatime1719 = df.index.values\n",
        "month_1720_datatime = np.concatenate([month_in_datatime1719, month_in_datatime2020])\n",
        "values1720 = np.concatenate([cridam.values, cridam2020.values], axis=0)\n",
        "# plot\n",
        "X = cridam.values\n",
        "month_x = [i for i in range(0, len(X))]\n",
        "month_2022 = [i+len(X)-1 for i in range(0, len(predictions))]\n",
        "\n",
        "# pyplot.plot(month_in_datatime,X, color='gray', label='actual')\n",
        "pyplot.plot(month_1720_datatime[-len(predictions):], predictions, color='red', marker='*',label='predicted')\n",
        "pyplot.plot(month_1720_datatime,values1720, color='blue',marker='o', label='actual')\n",
        "pyplot.legend()\n",
        "pyplot.xticks(rotation=30)\n",
        "pyplot.ylabel('frequency')\n",
        "pyplot.title('antisocial_behaviour')\n",
        "pyplot.show()"
      ],
      "metadata": {
        "id": "CYp55qVrOaVk"
      },
      "execution_count": null,
      "outputs": []
    }
  ]
}